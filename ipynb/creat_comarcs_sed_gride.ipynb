{
 "cells": [
  {
   "cell_type": "markdown",
   "metadata": {},
   "source": [
    "# Create [COMARCS](http://stev.oapd.inaf.it/atm/lrspe.html) sed grids for speedysedfit by using the R=200 spectra \n",
    "\n",
    "- Download the R=200 spectra from [COMARCS web](http://stev.oapd.inaf.it/atm/lrspe.html)"
   ]
  },
  {
   "cell_type": "raw",
   "metadata": {},
   "source": [
    "The list of spectra contains the parameters of the corresponding model atmosphere/calculation: t = effective temperature [K]; g = log(g)* - surface gravity g [cm/s**2]; m = M/M(sol)** - mass scaled to the solar value; o = log(eps(O)/eps(H)) + 12*; c = log(eps(C)/eps(H)) + 12*; fe = log(eps(Fe)/eps(H)) + 12*; xi = microturbulent velocity [km/s]*; c = version of COMA for RT calculation; h2o-bt2 = calculated with BT2 list for water; mxcom = COMARCS version; The change of individual abundances of elements relative to the solar scaled value is also indicated*."
   ]
  },
  {
   "cell_type": "code",
   "execution_count": 3,
   "metadata": {},
   "outputs": [],
   "source": [
    "from astropy.io import fits\n",
    "import matplotlib.pyplot as plt\n",
    "import joblib\n",
    "import numpy as np\n",
    "from glob import glob\n",
    "from speedysedfit.comarcsgrid import read_comarcs_spec\n",
    "from speedysedfit.broadsed import vgconv\n",
    "from tqdm import tqdm\n",
    "import os"
   ]
  },
  {
   "cell_type": "code",
   "execution_count": 4,
   "metadata": {},
   "outputs": [],
   "source": [
    "def get_primaryhdu(REF='COMARCS'):\n",
    "    n = np.zeros((1, 2), dtype=np.int32)\n",
    "    primary_hdu = fits.PrimaryHDU(n)\n",
    "    header = primary_hdu.header\n",
    "    header['REF'] =(REF, 'Table reference')\n",
    "    header['WAVUNIT'] = ('angstrom', 'wavelength units')\n",
    "    header['FLXUNIT'] = ('erg/s/cm2/A', 'flux units')\n",
    "    return primary_hdu\n",
    "\n",
    "def get_tablehdu(fname, R =200):\n",
    "    '''\n",
    "    R: [float] is resolution\n",
    "    '''\n",
    "    wave, flux_norm, nuLnu, fmean, flam = read_comarcs_spec(fname)\n",
    "    wave = np.array(wave, dtype=np.float32)\n",
    "    flam = np.array(flam, dtype=np.float32)\n",
    "    extname = os.path.basename(fname)\n",
    "    paras = extname.split('_')\n",
    "    TEFF = np.float(paras[1][1:])\n",
    "    LOGG = np.float(paras[2][1:])/100\n",
    "    M = np.float(paras[3][1:])/100\n",
    "    OH = np.float(paras[4][1:])/np.float(f'1.e{len(paras[4][2:])}')\n",
    "    CH = np.float(paras[5][1:])/np.float(f'1.e{len(paras[5][2:])}')\n",
    "    FeH = np.float(paras[6][2:])/np.float(f'1.e{len(paras[6][3:])}')\n",
    "    for para in paras[7:]:\n",
    "        if 'xi' in para:\n",
    "            Xi = np.float(para[2:])/np.float(f'1.e{len(para[3:])}')\n",
    "    cw = fits.Column(name='wavelength', array=wave, format='E')\n",
    "    cf = fits.Column(name='flux', array=flam, format='E')\n",
    "    table_hdu = fits.BinTableHDU.from_columns([cw,cf])\n",
    "    header = table_hdu.header\n",
    "    header['EXTNAME1'] = (extname[:29], 'name of the extension') \n",
    "    header['EXTNAME2'] = (extname[29:-4], 'name of the extension')\n",
    "    header['TEFF']    = (TEFF, 'Effective temperature (K)')                \n",
    "    header['LOGG']    = (LOGG, 'Log(g)')\n",
    "    header['OH']      = (OH, 'log(eps(O)/eps(H)) + 12')\n",
    "    header['CH']      = (CH, 'log(eps(C)/eps(H)) + 12')\n",
    "    header['FeH']      = (FeH, 'log(eps(Fe)/eps(H)) + 12')\n",
    "    header['Vt']    = (Xi, 'microturbulence velocity (km/s)')\n",
    "    table_hdu.header = header\n",
    "    return table_hdu"
   ]
  },
  {
   "cell_type": "code",
   "execution_count": 6,
   "metadata": {},
   "outputs": [],
   "source": [
    "dire_comarcs = '/share/lijiao/COMARCS/lrspec/isp'\n",
    "\n",
    "filelist = glob(os.path.join(dire_comarcs, 'mxcom11v06_t3744_g+003_m0079_o78029_c75429_fe65630_n+100_xi25_c10b.isp'))\n",
    "fname = filelist[0]"
   ]
  },
  {
   "cell_type": "code",
   "execution_count": 7,
   "metadata": {},
   "outputs": [
    {
     "name": "stderr",
     "output_type": "stream",
     "text": [
      "100%|██████████| 30/30 [00:00<00:00, 37.63it/s]\n"
     ]
    }
   ],
   "source": [
    "filelist = glob(os.path.join(dire_comarcs, '*.isp'))\n",
    "dirout = '/share/lijiao/speedyfit/modelgrids/'\n",
    "primary_hdu = get_primaryhdu(REF='CM')\n",
    "table_hdus = []\n",
    "#for fname in filelist:\n",
    "#    print(fname)\n",
    "#    table_hdu = get_tablehdu(fname)\n",
    "#    table_hdus.append(table_hdu)\n",
    "table_hdus = joblib.Parallel(n_jobs=10, )(joblib.delayed(get_tablehdu)(fname, R =200) for fname in tqdm(filelist[:30]))\n",
    "\n",
    "    \n",
    "#hdul = fits.HDUList([primary_hdu] + table_hdus)\n",
    "#hdul.writeto(dirout+'COMARCS.fits', overwrite=True)"
   ]
  },
  {
   "cell_type": "code",
   "execution_count": 6,
   "metadata": {},
   "outputs": [
    {
     "name": "stderr",
     "output_type": "stream",
     "text": [
      "WARNING: VerifyWarning: Card is too long, comment will be truncated. [astropy.io.fits.card]\n"
     ]
    }
   ],
   "source": [
    "    \n",
    "#hdul = fits.HDUList([primary_hdu] + table_hdus)\n",
    "#hdul.writeto(dirout+'COMARCS.fits', overwrite=True)"
   ]
  },
  {
   "cell_type": "code",
   "execution_count": 12,
   "metadata": {},
   "outputs": [],
   "source": [
    "hdul = fits.HDUList([primary_hdu] + table_hdus[:20])\n",
    "hdul.writeto(dirout+'COMARCS_subset.fits', overwrite=True)"
   ]
  },
  {
   "cell_type": "code",
   "execution_count": 16,
   "metadata": {},
   "outputs": [],
   "source": [
    "hdul = fits.open(dirout+'COMARCS.fits')\n",
    "xis = []\n",
    "for _hdul in hdul[1:]:\n",
    "    xis.append(_hdul.header['VT'])"
   ]
  },
  {
   "cell_type": "code",
   "execution_count": 13,
   "metadata": {},
   "outputs": [],
   "source": [
    "hdulsss = fits.open(dirout+'COMARCS_subset.fits')"
   ]
  },
  {
   "cell_type": "code",
   "execution_count": 15,
   "metadata": {},
   "outputs": [],
   "source": [
    "hdulsss.close()"
   ]
  },
  {
   "cell_type": "markdown",
   "metadata": {},
   "source": [
    "# check re.compiler"
   ]
  },
  {
   "cell_type": "code",
   "execution_count": 18,
   "metadata": {},
   "outputs": [
    {
     "name": "stdout",
     "output_type": "stream",
     "text": [
      "5.50794208D+16 2.5798+101\n",
      "\n"
     ]
    },
    {
     "data": {
      "text/plain": [
       "'5.50794208e+16 2.5798e+101\\n'"
      ]
     },
     "execution_count": 18,
     "metadata": {},
     "output_type": "execute_result"
    }
   ],
   "source": [
    "fname = '/share/lijiao/TLUSTY_grid/wangluqian/TlustyB/BG15000g475v2.flux'\n",
    "\n",
    "line_ttt = '5.50794208D+16 2.5798-101 2.5798+101\\n'\n",
    "line_ttt = '5.50794208D+16 2.5798+101\\n'\n",
    "l0= re_dbl_fort.sub(r'\\1e\\2', line_ttt)\n",
    "l = re_dbl_fort1.sub(r'\\1e-\\2', l0)\n",
    "ll = re_dbl_fort2.sub(r'\\1e+\\2', l)\n",
    "print(line_ttt)\n",
    "ll"
   ]
  }
 ],
 "metadata": {
  "kernelspec": {
   "display_name": "Python 3 (ipykernel)",
   "language": "python",
   "name": "python3"
  },
  "language_info": {
   "codemirror_mode": {
    "name": "ipython",
    "version": 3
   },
   "file_extension": ".py",
   "mimetype": "text/x-python",
   "name": "python",
   "nbconvert_exporter": "python",
   "pygments_lexer": "ipython3",
   "version": "3.9.13"
  }
 },
 "nbformat": 4,
 "nbformat_minor": 4
}
