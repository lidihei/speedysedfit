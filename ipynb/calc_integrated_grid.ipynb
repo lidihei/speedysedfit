{
 "cells": [
  {
   "cell_type": "markdown",
   "metadata": {},
   "source": [
    "# calculate integrated grid"
   ]
  },
  {
   "cell_type": "code",
   "execution_count": 1,
   "metadata": {},
   "outputs": [],
   "source": [
    "import numpy as np\n",
    "from astropy.io import fits\n",
    "from speedysedfit.integrate_grid import calc_integrated_grid, get_responses, calc_comarcs_integrated_grid\n",
    "from speedysedfit import model\n",
    "from speedysedfit import model, reddening, filters\n",
    "from astropy.io import ascii, fits\n",
    "from astropy.table import Table\n",
    "from multiprocessing import cpu_count, Manager, Process "
   ]
  },
  {
   "cell_type": "markdown",
   "metadata": {},
   "source": [
    "# get the SPEEDYFIT_MODELS file"
   ]
  },
  {
   "cell_type": "code",
   "execution_count": 2,
   "metadata": {},
   "outputs": [
    {
     "name": "stdout",
     "output_type": "stream",
     "text": [
      "/share/data/lijiao/speedyfit/modelgrids/../transmission_curves/*SWIFT*\n"
     ]
    },
    {
     "data": {
      "text/plain": [
       "['/share/data/lijiao/speedyfit/modelgrids/../transmission_curves/SWIFT.B',\n",
       " '/share/data/lijiao/speedyfit/modelgrids/../transmission_curves/SWIFT.U',\n",
       " '/share/data/lijiao/speedyfit/modelgrids/../transmission_curves/SWIFT.UVW1',\n",
       " '/share/data/lijiao/speedyfit/modelgrids/../transmission_curves/SWIFT.UVM2',\n",
       " '/share/data/lijiao/speedyfit/modelgrids/../transmission_curves/SWIFT.V',\n",
       " '/share/data/lijiao/speedyfit/modelgrids/../transmission_curves/SWIFT.white',\n",
       " '/share/data/lijiao/speedyfit/modelgrids/../transmission_curves/SWIFT.UVW2']"
      ]
     },
     "execution_count": 2,
     "metadata": {},
     "output_type": "execute_result"
    }
   ],
   "source": [
    "import os\n",
    "import glob\n",
    "basedir=os.environ.get('SPEEDYFIT_MODELS', None)\n",
    "dire = os.path.join(basedir, '..', 'transmission_curves', '*SWIFT*')\n",
    "print(dire)\n",
    "glob.glob(dire)"
   ]
  },
  {
   "cell_type": "code",
   "execution_count": 6,
   "metadata": {},
   "outputs": [],
   "source": [
    "ebvs=np.r_[0:2.1:0.05]"
   ]
  },
  {
   "cell_type": "code",
   "execution_count": 5,
   "metadata": {},
   "outputs": [
    {
     "name": "stdout",
     "output_type": "stream",
     "text": [
      "/share/lijiao/speedyfit/modelgrids/TlustyO_G_v10.fits\n"
     ]
    }
   ],
   "source": [
    "gridfile = model.get_grid_file(integrated=False, grid=os.path.join(basedir, 'TlustyO_G_v10.fits'))\n",
    "print(gridfile)"
   ]
  },
  {
   "cell_type": "code",
   "execution_count": 4,
   "metadata": {},
   "outputs": [
    {
     "name": "stdout",
     "output_type": "stream",
     "text": [
      "/share/lijiao/speedyfit/modelgrids/kurucz93_z0.0_k2odfnew_sed.fits\n"
     ]
    }
   ],
   "source": [
    "gridfile = model.get_grid_file(integrated=False, grid='kurucz')\n",
    "print(gridfile)"
   ]
  },
  {
   "cell_type": "code",
   "execution_count": 14,
   "metadata": {},
   "outputs": [
    {
     "name": "stdout",
     "output_type": "stream",
     "text": [
      "/share/data/lijiao/speedyfit/modelgrids/COMARCS.fits\n"
     ]
    }
   ],
   "source": [
    "gridfile = model.get_grid_file(integrated=False, grid='comarcs')\n",
    "print(gridfile)"
   ]
  },
  {
   "cell_type": "code",
   "execution_count": 9,
   "metadata": {},
   "outputs": [],
   "source": [
    "responses0 = ['SWIFT', 'GALEX', 'IUE', 'STROMGREN', 'JOHNSON', 'GAIA3E', 'GAIA2', 'SKYMAPPER', 'APASS', 'SDSS', '2MASS', 'WISE', 'PANSTARRS']"
   ]
  },
  {
   "cell_type": "code",
   "execution_count": 10,
   "metadata": {},
   "outputs": [
    {
     "data": {
      "text/plain": [
       "['SWIFT.B',\n",
       " 'SWIFT.U',\n",
       " 'SWIFT.UVM2',\n",
       " 'SWIFT.UVW1',\n",
       " 'SWIFT.UVW2',\n",
       " 'SWIFT.V',\n",
       " 'SWIFT.white']"
      ]
     },
     "execution_count": 10,
     "metadata": {},
     "output_type": "execute_result"
    }
   ],
   "source": [
    "filters.list_response(name='SWIFT')"
   ]
  },
  {
   "cell_type": "code",
   "execution_count": 11,
   "metadata": {},
   "outputs": [
    {
     "data": {
      "text/plain": [
       "2054.61"
      ]
     },
     "execution_count": 11,
     "metadata": {},
     "output_type": "execute_result"
    }
   ],
   "source": [
    "filters.eff_wave('SWIFT.UVW2')"
   ]
  },
  {
   "cell_type": "code",
   "execution_count": 12,
   "metadata": {},
   "outputs": [
    {
     "data": {
      "text/plain": [
       "['SWIFT.B',\n",
       " 'SWIFT.U',\n",
       " 'SWIFT.UVM2',\n",
       " 'SWIFT.UVW1',\n",
       " 'SWIFT.UVW2',\n",
       " 'SWIFT.V',\n",
       " 'SWIFT.white']"
      ]
     },
     "execution_count": 12,
     "metadata": {},
     "output_type": "execute_result"
    }
   ],
   "source": [
    "filters.list_response('SWIFT')"
   ]
  },
  {
   "cell_type": "code",
   "execution_count": 15,
   "metadata": {},
   "outputs": [
    {
     "name": "stdout",
     "output_type": "stream",
     "text": [
      "... subselection: SWIFT\n",
      "... subselection: GALEX\n",
      "... subselection: IUE\n",
      "... subselection: STROMGREN\n",
      "... subselection: JOHNSON\n",
      "... subselection: GAIA3E\n",
      "... subselection: GAIA2\n",
      "... subselection: SKYMAPPER\n",
      "... subselection: APASS\n",
      "... subselection: SDSS\n",
      "... subselection: 2MASS\n",
      "... subselection: WISE\n",
      "... subselection: PANSTARRS\n",
      "Selected response curves: SWIFT.B, SWIFT.U, SWIFT.UVM2, SWIFT.UVW1, SWIFT.UVW2, SWIFT.V, SWIFT.white, GALEX.FUV, GALEX.NUV, IUE.B1, IUE.B2, IUE.B3, STROMGREN.B, STROMGREN.HBN, STROMGREN.HBW, STROMGREN.U, STROMGREN.V, STROMGREN.Y, JOHNSON.B, JOHNSON.H, JOHNSON.I, JOHNSON.J, JOHNSON.K, JOHNSON.L, JOHNSON.M, JOHNSON.N, JOHNSON.R, JOHNSON.U, JOHNSON.V, GAIA3E.BP, GAIA3E.G, GAIA3E.RP, GAIA2.BP, GAIA2.G, GAIA2.RP, SKYMAPPER.G, SKYMAPPER.I, SKYMAPPER.R, SKYMAPPER.U, SKYMAPPER.V, SKYMAPPER.Z, APASS.B, APASS.G, APASS.I, APASS.R, APASS.V, APASS2.B, APASS2.G, APASS2.I, APASS2.R, APASS2.V, SDSS.G, SDSS.GP, SDSS.I, SDSS.IP, SDSS.R, SDSS.RP, SDSS.U, SDSS.UP, SDSS.Z, SDSS.ZP, 2MASS.H, 2MASS.J, 2MASS.KS, WISE.W1, WISE.W2, WISE.W3, WISE.W4, PANSTARRS.G, PANSTARRS.I, PANSTARRS.R, PANSTARRS.Y, PANSTARRS.Z\n"
     ]
    }
   ],
   "source": [
    "ff = fits.open(gridfile)\n",
    "data = ff[1].data\n",
    "wave, flux = data['wavelength'], data['flux']\n",
    "teffs = []\n",
    "loggs = []\n",
    "hdus = []\n",
    "for hdu in ff[1:]:\n",
    "    teffs.append(float(hdu.header['TEFF']))\n",
    "    loggs.append(float(hdu.header['LOGG']))\n",
    "    hdus.append(hdu)\n",
    "responses = get_responses(responses=responses0, wave=wave)\n",
    "# -- definition of one process for multi processing:\n",
    "\n",
    "law='fitzpatrick2004'\n",
    "Rv=3.1\n",
    "grid='kurucz'\n",
    "    \n",
    "def do_ebv_process(ebvs, arr, responses):\n",
    "    # Run over all reddening values, calculate the reddened model and integrate it over all photbands.\n",
    "    for ebv in ebvs:\n",
    "        # redden the model\n",
    "        flux_ = reddening.redden(flux, wave=wave, ebv=ebv, rtype='flux', law=law, Rv=Rv)\n",
    "        # calculate synthetic fluxes\n",
    "        synflux = filters.synthetic_flux(wave, flux_, responses)\n",
    "        # append to results\n",
    "        arr.append([np.concatenate(([ebv], synflux))])\n",
    "        \n",
    "# -- prepare the array containing the integrated fluxes\n",
    "#   (1 row per model, 1 column for each response curve and teff, logg, ebv and total luminosity)\n",
    "output = np.zeros((len(teffs) * len(ebvs), 4 + len(responses)))\n",
    "start = 0\n",
    "\n",
    "manager = Manager()                                                                                                                                               \n",
    "arr = manager.list([])"
   ]
  },
  {
   "cell_type": "code",
   "execution_count": 15,
   "metadata": {},
   "outputs": [],
   "source": [
    "do_ebv_process(ebvs[0:1], arr, responses[0:2])"
   ]
  },
  {
   "cell_type": "code",
   "execution_count": 13,
   "metadata": {},
   "outputs": [
    {
     "data": {
      "text/plain": [
       "['PANSTARRS.G', 'PANSTARRS.I', 'PANSTARRS.R', 'PANSTARRS.Y', 'PANSTARRS.Z']"
      ]
     },
     "execution_count": 13,
     "metadata": {},
     "output_type": "execute_result"
    }
   ],
   "source": [
    "filters.list_response('PANSTARRS')"
   ]
  },
  {
   "cell_type": "markdown",
   "metadata": {},
   "source": [
    "# calculate integrated grid of kurucz"
   ]
  },
  {
   "cell_type": "code",
   "execution_count": 6,
   "metadata": {},
   "outputs": [],
   "source": [
    "calc_integrated_grid(threads=15, ebvs=ebvs, law='fitzpatrick2004', Rv=3.1,\n",
    "                         responses=responses0, grid='kurucz') "
   ]
  },
  {
   "cell_type": "code",
   "execution_count": 19,
   "metadata": {},
   "outputs": [],
   "source": [
    "!mv ikurucz93_z0.0_k2odfnew_sed_lawfitzpatrick2004_Rv3.10.fits $SPEEDYFIT_MODELS"
   ]
  },
  {
   "cell_type": "markdown",
   "metadata": {},
   "source": [
    "# calculate integrated grid of tmap"
   ]
  },
  {
   "cell_type": "code",
   "execution_count": 23,
   "metadata": {},
   "outputs": [],
   "source": [
    "#calc_integrated_grid(threads=15, ebvs=ebvs, law='fitzpatrick2004', Rv=3.1,\n",
    "#                         responses=responses0, grid='tmap') "
   ]
  },
  {
   "cell_type": "code",
   "execution_count": 22,
   "metadata": {},
   "outputs": [],
   "source": [
    "#!mv iTMAP2012_sdOB_extended_lawfitzpatrick2004_Rv3.10.fits $SPEEDYFIT_MODELS"
   ]
  },
  {
   "cell_type": "markdown",
   "metadata": {},
   "source": [
    "# calculate integrated grid of munari"
   ]
  },
  {
   "cell_type": "code",
   "execution_count": 3,
   "metadata": {},
   "outputs": [],
   "source": [
    "#calc_integrated_grid(threads=15, ebvs=ebvs, law='fitzpatrick2004', Rv=3.1,\n",
    "#                         responses=responses0, grid='munari') "
   ]
  },
  {
   "cell_type": "code",
   "execution_count": 2,
   "metadata": {},
   "outputs": [],
   "source": [
    "!mv iMunari2005_extended_lawfitzpatrick2004_Rv3.10.fits $SPEEDYFIT_MODELS"
   ]
  },
  {
   "cell_type": "markdown",
   "metadata": {},
   "source": [
    "# calculate intergrated grid of TLUSTYO"
   ]
  },
  {
   "cell_type": "raw",
   "metadata": {},
   "source": [
    "calc_integrated_grid(threads=15, ebvs=ebvs, law='fitzpatrick2004', Rv=3.1,\n",
    "                         responses=responses0, grid='tlustyB') "
   ]
  },
  {
   "cell_type": "raw",
   "metadata": {},
   "source": [
    "!mv iTlustyB_G_v2_lawfitzpatrick2004_Rv3.10.fits $SPEEDYFIT_MODELS"
   ]
  },
  {
   "cell_type": "markdown",
   "metadata": {},
   "source": [
    "# calculate integrated grid of COMARCS"
   ]
  },
  {
   "cell_type": "code",
   "execution_count": 8,
   "metadata": {},
   "outputs": [],
   "source": [
    "#calc_comarcs_integrated_grid(threads=30, ebvs=ebvs, law='fitzpatrick2004', Rv=3.1,\n",
    "#                         responses=responses0, grid='comarcs') "
   ]
  },
  {
   "cell_type": "code",
   "execution_count": 10,
   "metadata": {},
   "outputs": [],
   "source": [
    "!mv iCOMARCS_lawfitzpatrick2004_Rv3.10.fits $SPEEDYFIT_MODELS"
   ]
  },
  {
   "cell_type": "markdown",
   "metadata": {},
   "source": [
    "check integrated grid of COMARCS"
   ]
  },
  {
   "cell_type": "code",
   "execution_count": 9,
   "metadata": {},
   "outputs": [],
   "source": [
    "#hdul = fits.open(os.path.join(basedir, 'iCOMARCS_lawfitzpatrick2004_Rv3.10.fits'))"
   ]
  },
  {
   "cell_type": "code",
   "execution_count": null,
   "metadata": {},
   "outputs": [],
   "source": [
    "tab = Table(hdul[1].data)\n",
    "tab"
   ]
  }
 ],
 "metadata": {
  "kernelspec": {
   "display_name": "Python 3",
   "language": "python",
   "name": "python3"
  },
  "language_info": {
   "codemirror_mode": {
    "name": "ipython",
    "version": 3
   },
   "file_extension": ".py",
   "mimetype": "text/x-python",
   "name": "python",
   "nbconvert_exporter": "python",
   "pygments_lexer": "ipython3",
   "version": "3.8.3"
  }
 },
 "nbformat": 4,
 "nbformat_minor": 4
}
