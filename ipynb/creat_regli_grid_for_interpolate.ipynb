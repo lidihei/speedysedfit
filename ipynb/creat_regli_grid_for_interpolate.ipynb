{
 "cells": [
  {
   "cell_type": "markdown",
   "metadata": {},
   "source": [
    "# creat a joblib dump file for using [regli](https://github.com/hypergravity/regli) to interpolate flux"
   ]
  },
  {
   "cell_type": "code",
   "execution_count": 1,
   "metadata": {},
   "outputs": [],
   "source": [
    "from speedysedfit.read_spec_grids import readspecgrids\n",
    "import matplotlib.pyplot as plt\n",
    "from speedysedfit import model"
   ]
  },
  {
   "cell_type": "markdown",
   "metadata": {},
   "source": [
    "# Note: some points might not be interpolated as the neigbor grids points are missed"
   ]
  },
  {
   "cell_type": "markdown",
   "metadata": {},
   "source": [
    "# TLUSTYO"
   ]
  },
  {
   "cell_type": "code",
   "execution_count": 2,
   "metadata": {},
   "outputs": [
    {
     "name": "stdout",
     "output_type": "stream",
     "text": [
      "@Regli: grid value missing -->  [3.25e+04 3.00e+00]\n",
      "@Regli: grid value missing -->  [3.5e+04 3.0e+00]\n",
      "@Regli: grid value missing -->  [3.75e+04 3.00e+00]\n",
      "@Regli: grid value missing -->  [4.e+04 3.e+00]\n",
      "@Regli: grid value missing -->  [4.25e+04 3.00e+00]\n",
      "@Regli: grid value missing -->  [4.5e+04 3.0e+00]\n",
      "@Regli: grid value missing -->  [4.75e+04 3.00e+00]\n",
      "@Regli: grid value missing -->  [5.e+04 3.e+00]\n",
      "@Regli: grid value missing -->  [5.25e+04 3.00e+00]\n",
      "@Regli: grid value missing -->  [5.5e+04 3.0e+00]\n",
      "@Regli: grid value missing -->  [3.75e+04 3.25e+00]\n",
      "@Regli: grid value missing -->  [4.00e+04 3.25e+00]\n",
      "@Regli: grid value missing -->  [4.25e+04 3.25e+00]\n",
      "@Regli: grid value missing -->  [4.50e+04 3.25e+00]\n",
      "@Regli: grid value missing -->  [4.75e+04 3.25e+00]\n",
      "@Regli: grid value missing -->  [5.00e+04 3.25e+00]\n",
      "@Regli: grid value missing -->  [5.25e+04 3.25e+00]\n",
      "@Regli: grid value missing -->  [5.50e+04 3.25e+00]\n",
      "@Regli: grid value missing -->  [4.25e+04 3.50e+00]\n",
      "@Regli: grid value missing -->  [4.5e+04 3.5e+00]\n",
      "@Regli: grid value missing -->  [4.75e+04 3.50e+00]\n",
      "@Regli: grid value missing -->  [5.0e+04 3.5e+00]\n",
      "@Regli: grid value missing -->  [5.25e+04 3.50e+00]\n",
      "@Regli: grid value missing -->  [5.5e+04 3.5e+00]\n",
      "@Regli: grid value missing -->  [5.00e+04 3.75e+00]\n",
      "@Regli: grid value missing -->  [5.25e+04 3.75e+00]\n",
      "@Regli: grid value missing -->  [5.50e+04 3.75e+00]\n",
      "@Regli: 27 values missing!\n",
      "@Regli: grid value missing -->  [4.51188336 3.        ]\n",
      "@Regli: grid value missing -->  [4.54406804 3.        ]\n",
      "@Regli: grid value missing -->  [4.57403127 3.        ]\n",
      "@Regli: grid value missing -->  [4.60205999 3.        ]\n",
      "@Regli: grid value missing -->  [4.62838893 3.        ]\n",
      "@Regli: grid value missing -->  [4.65321251 3.        ]\n",
      "@Regli: grid value missing -->  [4.67669361 3.        ]\n",
      "@Regli: grid value missing -->  [4.69897 3.     ]\n",
      "@Regli: grid value missing -->  [4.7201593 3.       ]\n",
      "@Regli: grid value missing -->  [4.74036269 3.        ]\n",
      "@Regli: grid value missing -->  [4.57403127 3.25      ]\n",
      "@Regli: grid value missing -->  [4.60205999 3.25      ]\n",
      "@Regli: grid value missing -->  [4.62838893 3.25      ]\n",
      "@Regli: grid value missing -->  [4.65321251 3.25      ]\n",
      "@Regli: grid value missing -->  [4.67669361 3.25      ]\n",
      "@Regli: grid value missing -->  [4.69897 3.25   ]\n",
      "@Regli: grid value missing -->  [4.7201593 3.25     ]\n",
      "@Regli: grid value missing -->  [4.74036269 3.25      ]\n",
      "@Regli: grid value missing -->  [4.62838893 3.5       ]\n",
      "@Regli: grid value missing -->  [4.65321251 3.5       ]\n",
      "@Regli: grid value missing -->  [4.67669361 3.5       ]\n",
      "@Regli: grid value missing -->  [4.69897 3.5    ]\n",
      "@Regli: grid value missing -->  [4.7201593 3.5      ]\n",
      "@Regli: grid value missing -->  [4.74036269 3.5       ]\n",
      "@Regli: grid value missing -->  [4.69897 3.75   ]\n",
      "@Regli: grid value missing -->  [4.7201593 3.75     ]\n",
      "@Regli: grid value missing -->  [4.74036269 3.75      ]\n",
      "@Regli: 27 values missing!\n"
     ]
    }
   ],
   "source": [
    "interpgrid = readspecgrids()\n",
    "interpolater = interpgrid.creat_regli_for_interpolate(keys= ['TEFF', 'LOGG'],grid='tlustyO',  wavelength=None, logTeffgrid=False)\n",
    "interpolater = interpgrid.creat_regli_for_interpolate(keys= ['TEFF', 'LOGG'],grid='tlustyO',  wavelength=None, logTeffgrid=True)"
   ]
  },
  {
   "cell_type": "markdown",
   "metadata": {},
   "source": [
    "# TLUSTY B"
   ]
  },
  {
   "cell_type": "code",
   "execution_count": 3,
   "metadata": {},
   "outputs": [
    {
     "name": "stdout",
     "output_type": "stream",
     "text": [
      "@Regli: 45 values missing!\n",
      "@Regli: 45 values missing!\n"
     ]
    }
   ],
   "source": [
    "interpgrid = readspecgrids()\n",
    "interpolater = interpgrid.creat_regli_for_interpolate(keys= ['TEFF', 'LOGG'],grid='tlustyB',  verbose=False, logTeffgrid=False)\n",
    "interpolater = interpgrid.creat_regli_for_interpolate(keys= ['TEFF', 'LOGG'],grid='tlustyB',  verbose=False, logTeffgrid=True)"
   ]
  },
  {
   "cell_type": "markdown",
   "metadata": {},
   "source": [
    "# TMAP"
   ]
  },
  {
   "cell_type": "code",
   "execution_count": 4,
   "metadata": {},
   "outputs": [
    {
     "name": "stdout",
     "output_type": "stream",
     "text": [
      "@Regli: 35 values missing!\n",
      "@Regli: 35 values missing!\n"
     ]
    }
   ],
   "source": [
    "interpgrid = readspecgrids()\n",
    "interpolater = interpgrid.creat_regli_for_interpolate(keys= ['TEFF', 'LOGG'],grid='tmap',  verbose=False, logTeffgrid=False)\n",
    "interpolater = interpgrid.creat_regli_for_interpolate(keys= ['TEFF', 'LOGG'],grid='tmap',  verbose=False, logTeffgrid=True)"
   ]
  },
  {
   "cell_type": "markdown",
   "metadata": {},
   "source": [
    "# kurucz"
   ]
  },
  {
   "cell_type": "code",
   "execution_count": 5,
   "metadata": {},
   "outputs": [
    {
     "name": "stdout",
     "output_type": "stream",
     "text": [
      "@Regli: 350 values missing!\n",
      "@Regli: 350 values missing!\n"
     ]
    }
   ],
   "source": [
    "interpgrid = readspecgrids()\n",
    "interpolater = interpgrid.creat_regli_for_interpolate(keys= ['TEFF', 'LOGG'],grid='kurucz',  wavelength=None, verbose=False, logTeffgrid=False)\n",
    "interpolater = interpgrid.creat_regli_for_interpolate(keys= ['TEFF', 'LOGG'],grid='kurucz',  wavelength=None, verbose=False, logTeffgrid=True)"
   ]
  },
  {
   "cell_type": "code",
   "execution_count": 7,
   "metadata": {},
   "outputs": [
    {
     "data": {
      "text/plain": [
       "Text(0, 0.5, '$erg/cm^2/s/\\\\AA$')"
      ]
     },
     "execution_count": 7,
     "metadata": {},
     "output_type": "execute_result"
    },
    {
     "data": {
      "image/png": "[encoded data removed]",
      "text/plain": [
       "<Figure size 936x504 with 1 Axes>"
      ]
     },
     "metadata": {
      "needs_background": "light"
     },
     "output_type": "display_data"
    }
   ],
   "source": [
    "wave, flux = model.get_flux_single(teff=30618, logg=4, grid='tlustyO')\n",
    "\n",
    "fig, ax = plt.subplots(1,1,figsize=(13,7))\n",
    "wave, flux = model.get_flux_single(teff=30618, logg=4, grid='tlustyO')\n",
    "plt.plot(wave, flux, label='TLUSTY O')\n",
    "\n",
    "wave, flux = model.get_flux_single(teff=30618, logg=4, grid='tlustyO', logTeffgrid=True)\n",
    "plt.plot(wave, flux, label='TLUSTY O')\n",
    "\n",
    "wave, flux = model.get_flux_single(teff=30618, logg=4, grid='kurucz')\n",
    "plt.plot(wave, flux, label='KURUCE')\n",
    "\n",
    "plt.legend()\n",
    "plt.semilogx()\n",
    "plt.semilogy()\n",
    "plt.xlabel(r'Wavelength [$\\AA$]')\n",
    "plt.ylabel(r'$erg/cm^2/s/\\AA$')"
   ]
  },
  {
   "cell_type": "code",
   "execution_count": null,
   "metadata": {},
   "outputs": [],
   "source": []
  }
 ],
 "metadata": {
  "kernelspec": {
   "display_name": "Python 3",
   "language": "python",
   "name": "python3"
  },
  "language_info": {
   "codemirror_mode": {
    "name": "ipython",
    "version": 3
   },
   "file_extension": ".py",
   "mimetype": "text/x-python",
   "name": "python",
   "nbconvert_exporter": "python",
   "pygments_lexer": "ipython3",
   "version": "3.7.6"
  }
 },
 "nbformat": 4,
 "nbformat_minor": 4
}
