{
 "cells": [
  {
   "cell_type": "markdown",
   "metadata": {},
   "source": [
    "# Create TLUSTY sed grids for speedysedfit by using the spectrum downloaded from Spectral Energy Distributions (SEDs) of [OTLUSTY2002](http://tlusty.oca.eu/Tlusty2002/tlusty-frames-OS02.html) and [BSTAR2006](http://tlusty.oca.eu/Tlusty2002/tlusty-frames-BS06.html)"
   ]
  },
  {
   "cell_type": "code",
   "execution_count": 4,
   "metadata": {},
   "outputs": [],
   "source": [
    "from astropy.io import fits\n",
    "import matplotlib.pyplot as plt\n",
    "import joblib\n",
    "import numpy as np\n",
    "from glob import glob\n",
    "from speedysedfit.tlustysed import rsed\n",
    "from speedysedfit.broadsed import vgconv\n",
    "from tqdm import tqdm\n",
    "import os"
   ]
  },
  {
   "cell_type": "code",
   "execution_count": 2,
   "metadata": {},
   "outputs": [],
   "source": [
    "clight = 299792.458 # km/s\n",
    "\n",
    "def get_primaryhdu(LOGZ='G', REF='TLUSTY2002', Z = 0.):\n",
    "    n = np.zeros((1, 2), dtype=np.int32)\n",
    "    primary_hdu = fits.PrimaryHDU(n)\n",
    "    header = primary_hdu.header\n",
    "    header['LOGZ'] = (LOGZ, 'Metallicity wrt Solar')\n",
    "    header['REF'] =(REF, 'Table reference')\n",
    "    header['WAVUNIT'] = ('angstrom', 'wavelength units')\n",
    "    header['FLXUNIT'] = ('erg/s/cm2/A', 'flux units')\n",
    "    header['Z'] = Z\n",
    "    return primary_hdu\n",
    "\n",
    "def get_tablehdu(fname, R =300, wave_start= 9.09e+01, wave_end = 1.60e+06):\n",
    "    '''\n",
    "    R: [float] is resolution\n",
    "    '''\n",
    "    extname = os.path.basename(fname)\n",
    "    _extname = extname.replace('B', '')\n",
    "    TEFF = float(_extname[1:6])\n",
    "    LOGG = float(_extname[7:10])/100\n",
    "    Vt = float(_extname[11:13])\n",
    "    vfhmw = clight/R\n",
    "    wcor, fcor = rsed(fname)\n",
    "    w1, fbin = vgconv(wcor, fcor,vfhmw, ppr=1)\n",
    "    ind =( w1 >= wave_start) & (w1 <=wave_end )\n",
    "    _w1 = np.array(w1[ind], dtype=np.float32)\n",
    "    _fbin = np.array(fbin[ind], dtype = np.float32)\n",
    "    cw = fits.Column(name='wavelength', array=_w1, format='E')\n",
    "    cf = fits.Column(name='flux', array=_fbin, format='E')\n",
    "    table_hdu = fits.BinTableHDU.from_columns([cw,cf])\n",
    "    header = table_hdu.header\n",
    "    header['EXTNAME'] = (extname, 'name of the extension')                          \n",
    "    header['TEFF']    = (TEFF, 'Effective temperature (K)')                \n",
    "    header['LOGG']    = (LOGG, 'Log(g)')\n",
    "    header['Vt']    = (Vt, 'microturbulence velocity (km/s)')\n",
    "    table_hdu.header = header\n",
    "    return table_hdu"
   ]
  },
  {
   "cell_type": "code",
   "execution_count": 6,
   "metadata": {},
   "outputs": [
    {
     "data": {
      "text/plain": [
       "\u001b[0;31mSignature:\u001b[0m \u001b[0mrsed\u001b[0m\u001b[0;34m(\u001b[0m\u001b[0mfname\u001b[0m\u001b[0;34m)\u001b[0m\u001b[0;34m\u001b[0m\u001b[0;34m\u001b[0m\u001b[0m\n",
       "\u001b[0;31mDocstring:\u001b[0m\n",
       "read sed file of Tlusty dowloaded from http://tlusty.oca.eu/Tlusty2002/OS02-SED.html\n",
       "parameters:\n",
       "--------------------\n",
       "fname: [str] e.g. BG28000g475v2.flux\n",
       "returns:\n",
       "-------------------\n",
       "wavelength: [array] in units of angstrom\n",
       "flux: [array] in units of erg/cm^2/s/A\n",
       "\u001b[0;31mFile:\u001b[0m      ~/anaconda3/lib/python3.7/site-packages/speedysedfit-0.1.0-py3.7.egg/speedysedfit/tlustysed.py\n",
       "\u001b[0;31mType:\u001b[0m      function\n"
      ]
     },
     "metadata": {},
     "output_type": "display_data"
    }
   ],
   "source": [
    "rsed?"
   ]
  },
  {
   "cell_type": "markdown",
   "metadata": {},
   "source": [
    "# Solar Metallicity grids of OTLUSTY2002"
   ]
  },
  {
   "cell_type": "code",
   "execution_count": 19,
   "metadata": {},
   "outputs": [
    {
     "name": "stderr",
     "output_type": "stream",
     "text": [
      "100%|██████████| 69/69 [00:04<00:00, 15.24it/s]\n"
     ]
    }
   ],
   "source": [
    "filelist = glob('/share/lijiao/TLUSTY_grid/wangluqian/Tlusty/G*.flux')\n",
    "dirout = '/share/lijiao/speedyfit/modelgrids/'\n",
    "primary_hdu = get_primaryhdu(LOGZ='G', REF='OTLUSTY2002', Z = 0.)\n",
    "table_hdus = joblib.Parallel(n_jobs=10, )(joblib.delayed(get_tablehdu)(fname, R =300, wave_start= 9.09e+01, wave_end = 1.60e+06) for fname in tqdm(filelist))\n",
    "\n",
    "hdul = fits.HDUList([primary_hdu] + table_hdus)\n",
    "hdul.writeto(dirout+'TlustyO_G_v10.fits', overwrite=True)"
   ]
  },
  {
   "cell_type": "markdown",
   "metadata": {},
   "source": [
    "# Solar Metallicity grids of BTLUSTY2006"
   ]
  },
  {
   "cell_type": "code",
   "execution_count": 4,
   "metadata": {},
   "outputs": [
    {
     "name": "stderr",
     "output_type": "stream",
     "text": [
      "100%|██████████| 163/163 [00:24<00:00,  6.55it/s]\n"
     ]
    }
   ],
   "source": [
    "filelist = glob('/share/lijiao/TLUSTY_grid/wangluqian/TlustyB/BG*.flux')\n",
    "dirout = '/share/lijiao/speedyfit/modelgrids/'\n",
    "primary_hdu = get_primaryhdu(LOGZ='G', REF='BTLUSTY2006', Z = 0.)\n",
    "table_hdus = []\n",
    "table_hdus = joblib.Parallel(n_jobs=10, )(joblib.delayed(get_tablehdu)(fname, R =300, wave_start= 9.09e+01, wave_end = 1.60e+06) for fname in tqdm(filelist))\n",
    "#for i, fname in enumerate(filelist):\n",
    "#    table_hdu = get_tablehdu(fname)\n",
    "#    table_hdus.append(table_hdu)\n",
    "    \n",
    "hdul = fits.HDUList([primary_hdu] + table_hdus)\n",
    "hdul.writeto(dirout+'TlustyB_G_v2.fits', overwrite=True)"
   ]
  },
  {
   "cell_type": "markdown",
   "metadata": {},
   "source": [
    "# check re.compiler"
   ]
  },
  {
   "cell_type": "code",
   "execution_count": 3,
   "metadata": {},
   "outputs": [
    {
     "name": "stdout",
     "output_type": "stream",
     "text": [
      "5.50794208D+16 2.5798-101 2.5798+101 55.50794208D+16 55.50794208D-16\n",
      "\n",
      "5.50794208e+16 2.5798e-101 2.5798e+101 55.50794208e+16 55.50794208e-16\n",
      "\n"
     ]
    }
   ],
   "source": [
    "import re\n",
    "fname = '/share/lijiao/TLUSTY_grid/wangluqian/TlustyB/BG15000g475v2.flux'\n",
    "\n",
    "re_dbl_fort = re.compile(r'(\\d*\\.\\d+)[dD]([-+]?\\d+)')\n",
    "re_dbl_fort1 = re.compile(r'(\\d*\\.\\d+)[-](\\d+)')\n",
    "re_dbl_fort2 = re.compile(r'(\\d*\\.\\d+)[+](\\d+)')\n",
    "\n",
    "line_ttt = '5.50794208D+16 2.5798-101 2.5798+101 55.50794208D+16 55.50794208D-16\\n'\n",
    "#line_ttt = '5.50794208D+16 2.5798+101\\n'\n",
    "l0= re_dbl_fort.sub(r'\\1e\\2', line_ttt)\n",
    "l = re_dbl_fort1.sub(r'\\1e-\\2', l0)\n",
    "ll = re_dbl_fort2.sub(r'\\1e+\\2', l)\n",
    "print(line_ttt)\n",
    "print(ll)"
   ]
  },
  {
   "cell_type": "code",
   "execution_count": null,
   "metadata": {},
   "outputs": [],
   "source": []
  }
 ],
 "metadata": {
  "kernelspec": {
   "display_name": "Python 3",
   "language": "python",
   "name": "python3"
  },
  "language_info": {
   "codemirror_mode": {
    "name": "ipython",
    "version": 3
   },
   "file_extension": ".py",
   "mimetype": "text/x-python",
   "name": "python",
   "nbconvert_exporter": "python",
   "pygments_lexer": "ipython3",
   "version": "3.8.3"
  }
 },
 "nbformat": 4,
 "nbformat_minor": 4
}
