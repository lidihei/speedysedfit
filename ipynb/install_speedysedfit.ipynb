{
 "cells": [
  {
   "cell_type": "markdown",
   "metadata": {},
   "source": [
    "The speedysedfit pacakge is developed from [speedyfit](https://speedyfit.readthedocs.io/en/stable/index.html) of Joris Vos\n",
    "\n",
    "# install speedysedfit"
   ]
  },
  {
   "cell_type": "markdown",
   "metadata": {},
   "source": [
    "# download [speedysedfit](https://github.com/lidihei/speedysedfit.git)\n",
    "\n",
    "$ cd speedysedfit\n",
    "\n",
    "$ python setup.py install"
   ]
  },
  {
   "cell_type": "markdown",
   "metadata": {},
   "source": [
    "# setup configure file and download [SED girds](http://www.astro.physik.uni-potsdam.de/~jorisvos/Speedyfit/modelgrids.tar.gz)"
   ]
  },
  {
   "cell_type": "raw",
   "metadata": {},
   "source": [
    "- edit environment variable\n",
    "#make a directory which you want to store the SED grids and the integrated grids\n",
    "\n",
    "$ mkdir /share/speedysedfit  \n",
    "$ mkdir /share/speedysedfit/modelgrids\n",
    "$ export SPEEDYFIT_MODELS=\"share/speedyfit/modelgrids/\"\n",
    "\n",
    "\n",
    "$ cp -r speedysedfit/transmission_curves $SPEEDYFIT_MODELS/../\n",
    "$ cp -r speedysedfit/redlaws $SPEEDYFIT_MODELS/../\n",
    "$ cp speedysedfit/zeropoints.dat $SPEEDYFIT_MODELS/../"
   ]
  },
  {
   "cell_type": "markdown",
   "metadata": {},
   "source": [
    "# edit a default grid configure file"
   ]
  },
  {
   "cell_type": "raw",
   "metadata": {},
   "source": [
    "$ cd $SPEEDYFIT_MODELS\n",
    "#create or edit a file named grid_description.yaml which contains(TLUSTY and COMARCS grids should be created by youself):\n",
    "\n",
    "kurucz:\n",
    "    filename: 'kurucz93_z0.0_k2odfnew_sed'\n",
    "munari:\n",
    "    filename: 'Munari2005_extended'\n",
    "tmap:\n",
    "    filename: 'TMAP2012_sdOB_extended'\n",
    "blackbody:\n",
    "    filename: 'blackbody_discint'\n",
    "tlustyB:\n",
    "    filename: 'TlustyB_G_v2'\n",
    "tlustyO:\n",
    "    filename: 'TlustyO_G_v10'\n",
    "comarcs:\n",
    "    filename: 'COMARCS'"
   ]
  },
  {
   "cell_type": "markdown",
   "metadata": {},
   "source": [
    "Create [TLUSTY SED grid](creat_tlusty_sed_gride.ipynb) and [COMARCS SED grid](creat_comarcs_sed_gride.ipynb)\n",
    "\n",
    "If you want calculate and save Integrated TLUSTY and COMARCS grids, or calculate a your own integrated grid, you can look at [calc_integrated_grid.ipynb](calc_integrated_grid.ipynb)"
   ]
  },
  {
   "cell_type": "code",
   "execution_count": null,
   "metadata": {},
   "outputs": [],
   "source": []
  }
 ],
 "metadata": {
  "kernelspec": {
   "display_name": "Python 3 (ipykernel)",
   "language": "python",
   "name": "python3"
  },
  "language_info": {
   "codemirror_mode": {
    "name": "ipython",
    "version": 3
   },
   "file_extension": ".py",
   "mimetype": "text/x-python",
   "name": "python",
   "nbconvert_exporter": "python",
   "pygments_lexer": "ipython3",
   "version": "3.9.13"
  }
 },
 "nbformat": 4,
 "nbformat_minor": 4
}
